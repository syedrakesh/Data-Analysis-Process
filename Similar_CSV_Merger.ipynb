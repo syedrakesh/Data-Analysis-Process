{
 "cells": [
  {
   "cell_type": "code",
   "execution_count": 7,
   "id": "0e412fdc-f843-4d0b-9838-ae975b188204",
   "metadata": {},
   "outputs": [
    {
     "name": "stdout",
     "output_type": "stream",
     "text": [
      "Merged 17 files into /home/rakesh/Desktop/similar_csv_files_directory/merged.csv\n"
     ]
    }
   ],
   "source": [
    "import os\n",
    "import pandas as pd\n",
    "\n",
    "def merge_csv_files(directory_path, output_file):\n",
    "    # List to hold data from each CSV file\n",
    "    all_data = []\n",
    "\n",
    "    # Loop through all files in the directory\n",
    "    for filename in os.listdir(directory_path):\n",
    "        if filename.endswith(\".csv\"):\n",
    "            # Construct full file path\n",
    "            file_path = os.path.join(directory_path, filename)\n",
    "\n",
    "            # Read the CSV file and append the data to the list\n",
    "            df = pd.read_csv(file_path)\n",
    "            all_data.append(df)\n",
    "\n",
    "    # Concatenate all data into a single DataFrame\n",
    "    merged_data = pd.concat(all_data, ignore_index=True)\n",
    "\n",
    "    # Save the merged data to a new CSV file\n",
    "    merged_data.to_csv(output_file, index=False)\n",
    "\n",
    "    print(f\"Merged {len(all_data)} files into {output_file}\")\n",
    "\n",
    "if __name__ == \"__main__\":\n",
    "    # Replace with your directory path and output file path\n",
    "    directory_path = \"/home/rakesh/Desktop/similar_csv_files_directory\"\n",
    "    output_file = \"/home/rakesh/Desktop/similar_csv_files_directory/merged.csv\"\n",
    "\n",
    "    merge_csv_files(directory_path, output_file)\n"
   ]
  }
 ],
 "metadata": {
  "kernelspec": {
   "display_name": "Python 3 (ipykernel)",
   "language": "python",
   "name": "python3"
  },
  "language_info": {
   "codemirror_mode": {
    "name": "ipython",
    "version": 3
   },
   "file_extension": ".py",
   "mimetype": "text/x-python",
   "name": "python",
   "nbconvert_exporter": "python",
   "pygments_lexer": "ipython3",
   "version": "3.10.12"
  }
 },
 "nbformat": 4,
 "nbformat_minor": 5
}
